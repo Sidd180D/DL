{
 "cells": [
  {
   "cell_type": "code",
   "execution_count": null,
   "id": "e5cbd74a-f867-46eb-8518-309ccf9a8a6c",
   "metadata": {},
   "outputs": [],
   "source": [
    "import tensorflow as tf\n",
    "from tensorflow.keras import datasets, layers, models\n",
    "import matplotlib.pyplot as pit\n",
    "import numpy as np"
   ]
  },
  {
   "cell_type": "code",
   "execution_count": null,
   "id": "f34edbd5-3746-400e-8bab-7078c370d531",
   "metadata": {},
   "outputs": [],
   "source": [
    "(train_images, train_labels), (test_images, test_labels) =\n",
    "datasets.cifar10.load_data()\n"
   ]
  },
  {
   "cell_type": "code",
   "execution_count": null,
   "id": "ec0c334a-a231-49be-ab86-97f5b9d12a2d",
   "metadata": {},
   "outputs": [],
   "source": [
    "train_images, test_images = train_images / 255.0, test_images / 255.0"
   ]
  },
  {
   "cell_type": "code",
   "execution_count": null,
   "id": "f18a0900-c2bb-404b-9fab-0c38ee2594c8",
   "metadata": {},
   "outputs": [],
   "source": [
    "class_names = ['airplane', 'automobile', 'bird', 'cat', 'deer', 'dog', 'frog',\n",
    "'horse', 'ship', 'truck']"
   ]
  },
  {
   "cell_type": "code",
   "execution_count": null,
   "id": "13087358-5595-4cd9-9c56-5e2653b0cf69",
   "metadata": {},
   "outputs": [],
   "source": [
    "model = models.Sequential([\n",
    " layers.Conv2D(32, (3, 3), activation='relu', input_shape=(32, 32, 3)),\n",
    " layers.MaxPooling2D((2, 2)),\n",
    " layers.Conv2D(64, (3, 3), activation='relu'),\n",
    " layers.MaxPooling2D((2, 2)),\n",
    " layers.Conv2D(64, (3, 3), activation='relu'),\n",
    " layers.Flatten(),\n",
    " layers.Dense(64, activation='relu'),\n",
    " layers.Dense(10, activation='softmax') # Fixed to 10 classes\n",
    "])\n",
    "#"
   ]
  },
  {
   "cell_type": "code",
   "execution_count": null,
   "id": "a0b8dec8-b239-4227-a889-5b78f3539f21",
   "metadata": {},
   "outputs": [],
   "source": [
    "model.compile(optimizer='adam', loss='sparse_categorical_crossentropy',\n",
    "metrics=['accuracy'])"
   ]
  },
  {
   "cell_type": "code",
   "execution_count": null,
   "id": "7745dd0a-9e1c-44ac-b239-5f5954c0d4a1",
   "metadata": {},
   "outputs": [],
   "source": [
    "history = model.fit(train_images, train_labels, epochs=20,\n",
    "validation_data=(test_images, test_labels), batch_size=64)"
   ]
  },
  {
   "cell_type": "code",
   "execution_count": null,
   "id": "f603d34f-4e54-45bd-a797-6bda14397707",
   "metadata": {},
   "outputs": [],
   "source": [
    "predictions = model.predict(test_images)"
   ]
  },
  {
   "cell_type": "code",
   "execution_count": null,
   "id": "beac1f30-18ce-455c-ac91-69152ae445e1",
   "metadata": {},
   "outputs": [],
   "source": [
    "def plot_image(pred_index, predictions_array, true_label, img):\n",
    "\n",
    " true_label_value = true_label[pred_index][0] # Get true label\n",
    " image = img[pred_index]\n",
    " plt.grid(False)\n",
    " plt.xticks([])\n",
    " plt.yticks([])\n",
    "\n",
    " plt.imshow(image, cmap=plt.cm.binary)\n",
    " predicted_label = np.argmax(predictions_array) # Determine predicted label\n",
    " color = 'blue' if predicted_label == true_label_value else 'red' # Set\n",
    "color\n",
    " plt.xlabel(f\"Predicted: {class_names[predicted_label]} ({100 *\n",
    "np.max(predictions_array):.2f}%)\", color=color)\n"
   ]
  },
  {
   "cell_type": "code",
   "execution_count": null,
   "id": "e078f0a7-f221-4403-bf4c-4ea790b2a438",
   "metadata": {},
   "outputs": [],
   "source": [
    "def plot_value_array(pred_index, predictions_array, true_label):\n",
    "\n",
    " plt.grid(False)\n",
    " plt.xticks(range(10), class_names, rotation=45)\n",
    " plt.yticks(np.arange(0, 1.1, 0.1), [f\"{int(i * 100)}%\" for i in np.arange(0,\n",
    "1.1, 0.1)])\n",
    " plt.ylim([0, 1])\n",
    " predicted_label = np.argmax(predictions_array)\n",
    " true_label_value = true_label[pred_index][0]\n",
    " thisplot = plt.bar(range(10), predictions_array, color=\"#777777\")\n",
    " thisplot[predicted_label].set_color('red') # Highlight predicted label\n",
    " thisplot[true_label_value].set_color('blue') # Highlight true label\n"
   ]
  },
  {
   "cell_type": "code",
   "execution_count": null,
   "id": "01a813e4-fccb-491d-9e11-005ef1f15c8f",
   "metadata": {},
   "outputs": [],
   "source": [
    "def predict_and_plot_image(index):\n",
    "\n",
    " plt.figure(figsize=(10, 5))\n",
    "\n",
    " plt.subplot(1, 2, 1) # First subplot: image\n",
    " plot_image(index, predictions[index], test_labels, test_images)\n",
    " plt.subplot(1, 2, 2) # Second subplot: prediction probabilities\n",
    " plot_value_array(index, predictions[index], test_labels)\n",
    " plt.show()"
   ]
  },
  {
   "cell_type": "code",
   "execution_count": null,
   "id": "b32e518b-775d-4e9a-aa01-f58f0b5f5b07",
   "metadata": {},
   "outputs": [],
   "source": [
    "def find_image_by_class(target_class, labels):\n",
    "\n",
    " for index, label in enumerate(labels):\n",
    " if label[0] == target_class: # Assuming labels are in shape\n",
    "(num_samples, 1)\n",
    " return index\n",
    " return -1 # Return -1 if the target class is not found\n"
   ]
  },
  {
   "cell_type": "code",
   "execution_count": null,
   "id": "0c5ba14f-5f92-4b19-8ece-55cfbfb3eaab",
   "metadata": {},
   "outputs": [],
   "source": [
    "target_class = 9 # Specify the target class (e.g., 'truck' for CIFAR-10)\n",
    "image_index = find_image_by_class(target_class, test_labels)"
   ]
  },
  {
   "cell_type": "code",
   "execution_count": null,
   "id": "bb217cda-05bb-4b1b-a301-d52e73e4e71e",
   "metadata": {},
   "outputs": [],
   "source": [
    "if image_index != -1:\n",
    " print(f\"Image index for class {target_class}: {image_index}\")\n",
    " predict_and_plot_image(image_index) # Plot the image and predictions\n",
    "else:\n",
    " print(f\"No image found for class {target_class}\")"
   ]
  }
 ],
 "metadata": {
  "kernelspec": {
   "display_name": "Python 3 (ipykernel)",
   "language": "python",
   "name": "python3"
  },
  "language_info": {
   "codemirror_mode": {
    "name": "ipython",
    "version": 3
   },
   "file_extension": ".py",
   "mimetype": "text/x-python",
   "name": "python",
   "nbconvert_exporter": "python",
   "pygments_lexer": "ipython3",
   "version": "3.12.4"
  }
 },
 "nbformat": 4,
 "nbformat_minor": 5
}
